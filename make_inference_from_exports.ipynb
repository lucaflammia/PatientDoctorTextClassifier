{
 "cells": [
  {
   "cell_type": "code",
   "execution_count": null,
   "metadata": {},
   "outputs": [],
   "source": [
    "import numpy as np\n",
    "import pandas as pd\n",
    "import re\n",
    "from transformers import pipeline\n",
    "import csv\n",
    "import os"
   ]
  },
  {
   "cell_type": "code",
   "execution_count": null,
   "metadata": {},
   "outputs": [],
   "source": [
    "HF_USERNAME = \"LukeGPT88\"\n",
    "PROJECT_NAME = \"patient-doctor-text-classifier\"\n",
    "SUB_PROJECT_NAME = \"eng\"\n",
    "TASK = f\"{PROJECT_NAME}-{SUB_PROJECT_NAME}\"\n",
    "\n",
    "FOLDERPATH = 'PulsarSearchesExport'\n",
    "TOPIC_CC = 'HavasGlobal-Lupus'\n",
    "TOPIC_SC = 'havas_global-lupus'"
   ]
  },
  {
   "cell_type": "markdown",
   "metadata": {},
   "source": [
    "# From Pulsar Searches "
   ]
  },
  {
   "cell_type": "code",
   "execution_count": null,
   "metadata": {},
   "outputs": [],
   "source": [
    "df = pd.read_excel(f'{FOLDERPATH}/{TOPIC_CC}/107503-all-2024-05-17-07-39-05-1163478.xlsx')\n",
    "df.info()"
   ]
  },
  {
   "cell_type": "code",
   "execution_count": null,
   "metadata": {},
   "outputs": [],
   "source": [
    "df.columns"
   ]
  },
  {
   "cell_type": "code",
   "execution_count": null,
   "metadata": {},
   "outputs": [],
   "source": [
    "df[['user name', 'user screen name']]"
   ]
  },
  {
   "cell_type": "code",
   "execution_count": null,
   "metadata": {},
   "outputs": [],
   "source": [
    "df.drop_duplicates(subset=['content'], inplace=True)\n",
    "df.dropna(subset=['content'], inplace=True)"
   ]
  },
  {
   "cell_type": "code",
   "execution_count": null,
   "metadata": {},
   "outputs": [],
   "source": [
    "df.info()"
   ]
  },
  {
   "cell_type": "code",
   "execution_count": null,
   "metadata": {},
   "outputs": [],
   "source": [
    "contents = df['content'].values\n",
    "bios = df['bio'].values\n",
    "data = {'contents': contents, 'bios': bios}"
   ]
  },
  {
   "cell_type": "markdown",
   "metadata": {},
   "source": [
    "## make better inference for bios adding medical bios"
   ]
  },
  {
   "cell_type": "code",
   "execution_count": null,
   "metadata": {},
   "outputs": [],
   "source": [
    "df_medical_bios = pd.read_csv(f'{FOLDERPATH}/{TOPIC_CC}/output/medical_bios_df.csv')"
   ]
  },
  {
   "cell_type": "code",
   "execution_count": null,
   "metadata": {},
   "outputs": [],
   "source": [
    "meaningful_medical_bio_array = []\n",
    "for medical_bio in df_medical_bios['bio']:\n",
    "  meaningful_medical_bio = get_meaningful_text(medical_bio)\n",
    "  meaningful_medical_bio_array.append(meaningful_medical_bio)\n",
    "\n",
    "df_medical_bios['bio'] = None\n",
    "df_medical_bios['bio'] = meaningful_medical_bio_array"
   ]
  },
  {
   "cell_type": "code",
   "execution_count": null,
   "metadata": {},
   "outputs": [],
   "source": [
    "df_medical_bios['bio']"
   ]
  },
  {
   "cell_type": "code",
   "execution_count": null,
   "metadata": {},
   "outputs": [],
   "source": [
    "df_medical_bios.drop_duplicates(subset=['bio'], inplace=True)\n",
    "df_medical_bios.dropna(subset=['bio'], inplace=True)"
   ]
  },
  {
   "cell_type": "code",
   "execution_count": null,
   "metadata": {},
   "outputs": [],
   "source": [
    "df_medical_bios.loc[df_medical_bios['bio'].str.contains('Assistant')]['bio']"
   ]
  },
  {
   "cell_type": "code",
   "execution_count": null,
   "metadata": {},
   "outputs": [],
   "source": [
    "df_medical_bios['bio'].values[1]"
   ]
  },
  {
   "cell_type": "markdown",
   "metadata": {},
   "source": [
    "## Endpoint Inference using HF Endpoint"
   ]
  },
  {
   "cell_type": "code",
   "execution_count": null,
   "metadata": {},
   "outputs": [],
   "source": [
    "print(len(contents), len(bios), len(data))"
   ]
  },
  {
   "cell_type": "code",
   "execution_count": null,
   "metadata": {},
   "outputs": [],
   "source": [
    "data['contents'][:10]"
   ]
  },
  {
   "cell_type": "code",
   "execution_count": null,
   "metadata": {},
   "outputs": [],
   "source": [
    "def get_csv_file(data, split=0):\n",
    "  out_df = pd.DataFrame({\n",
    "    \"Account\": [res['account'] for res in data], \"User\": [res['user'] for res in data], \"Content\": [res['content']['text'] for res in data], \"Predicted Content Type (Label / Score)\": [f\"{res['content']['label']} / {res['content']['score']}\" for res in data], \n",
    "    \"Bio\": [res['bio']['text'] for res in data], \"Predicted Bio Type (Label / Score)\": [f\"{res['bio']['label']} / {res['bio']['score']}\" for res in data]\n",
    "  })\n",
    "  filename = f'{FOLDERPATH}/{TOPIC_CC}/output/{TOPIC_SC}_export_inference_p{int(split)}.csv' if split != 0 else f'{FOLDERPATH}/{TOPIC_CC}/output/{TOPIC_SC}_export_inference.csv'\n",
    "  out_df.to_csv(filename)\n",
    "  if split > 1:\n",
    "    filename_old = f'{FOLDERPATH}/{TOPIC_CC}/output/{TOPIC_SC}_export_inference_p{int(split - 2)}.csv'\n",
    "    if(os.path.exists(filename_old) and os.path.isfile(filename_old)):\n",
    "      os.remove(filename_old)\n"
   ]
  },
  {
   "cell_type": "code",
   "execution_count": null,
   "metadata": {},
   "outputs": [],
   "source": [
    "classifier = pipeline(\"text-classification\", model=f\"{HF_USERNAME}/{TASK}\")"
   ]
  },
  {
   "cell_type": "code",
   "execution_count": null,
   "metadata": {},
   "outputs": [],
   "source": [
    "len(list(map(lambda x,y: (x, y), data['contents'], data['bios'])))"
   ]
  },
  {
   "cell_type": "code",
   "execution_count": null,
   "metadata": {},
   "outputs": [],
   "source": [
    "def get_meaningful_text(text):\n",
    "  \"\"\"\n",
    "    Remove meaningless words like everything starting with '#', '@', or containing 'http'\n",
    "  \"\"\"\n",
    "  # Define the regex pattern to match words starting with '@', '#', or 'http'\n",
    "  # pattern = r'\\b(@\\w+|#\\w+|http\\S*)'\n",
    "  pattern = r'\\B@\\w+|#\\w+|http\\S*'\n",
    "\n",
    "  # Use re.sub to replace words starting with '@', '#', or 'http' with an empty string\n",
    "  cleaned_text = re.sub(pattern, '', text)\n",
    "\n",
    "  # Optional: Clean up any extra spaces created by the replacements\n",
    "  cleaned_text = re.sub(r'\\s+', ' ', cleaned_text).strip()\n",
    "\n",
    "  return cleaned_text"
   ]
  },
  {
   "cell_type": "code",
   "execution_count": null,
   "metadata": {},
   "outputs": [],
   "source": [
    "text = \"@YodaKnows3 @AP Well he had prostate cancer, so my guess is he died of lupus\"\n",
    "res = get_meaningful_text(\"✅ It is my IMMENSE PLEASURE to share with you our SEMINAR on systemic #Lupus just published in... The LANCET!!!!! Amazing work driven by @alberta_hoi 👍LINK: https://t.co/iayAks7zWC https://t.co/9Q99vJghT6\")\n",
    "print(res)"
   ]
  },
  {
   "cell_type": "code",
   "execution_count": null,
   "metadata": {},
   "outputs": [],
   "source": [
    "classifier = pipeline(\"text-classification\", model=f\"{HF_USERNAME}/{TASK}\")\n",
    "outcomes = []\n",
    "tot_rows = list(map(lambda x, w, y, z: (x, w, y, z), df['user name'].values,df['user screen name'].values, data['contents'], data['bios']))[:2]\n",
    "for i, (account, user, content, bio) in enumerate(tot_rows):\n",
    "  meaningful_content = get_meaningful_text(content)\n",
    "  print(meaningful_content)\n",
    "  if len(meaningful_content) <= 500:\n",
    "    if type(bio) != str:\n",
    "      meaningful_bio = ''\n",
    "    else:\n",
    "      meaningful_bio = get_meaningful_text(bio)\n",
    "    outcomes.append({\"account\": account, \"user\": user, \"content\": {**{\"text\": content}, **classifier(meaningful_content)[0]}, \"bio\": {**{\"text\": bio}, **classifier(meaningful_bio)[0]}})\n",
    "  if i%1000 == 0 and i != 0:\n",
    "    split = i/1000\n",
    "    get_csv_file(outcomes, split)\n",
    "  if i == len(tot_rows) - 1:\n",
    "    get_csv_file(outcomes)\n",
    "\n",
    "# outcomes = []\n",
    "# for i, bio in enumerate(bios[:110]):\n",
    "#   if type(bio) == float:\n",
    "#     bio = None\n",
    "#     outcomes.append({ **{\"bio\": bio}, **{\"label\": None, \"score\": None}})\n",
    "#     continue\n",
    "#   if len(bio) <= 500:\n",
    "#     outcomes.append({ **{\"bio\": bio}, **classifier(bio)[0]})\n",
    "#   if i%1000 == 0 and i != 0:\n",
    "#     split = i/1000\n",
    "#     get_csv_file(outcomes, 'bio', split)\n",
    "#   if i == len(bios[:110]) - 1:\n",
    "#     get_csv_file(outcomes, 'bio')"
   ]
  },
  {
   "cell_type": "code",
   "execution_count": null,
   "metadata": {},
   "outputs": [],
   "source": [
    "# fields = ['Content']\n",
    "# with open(f'{topics_sc}_export_inference.csv', 'w') as f:\n",
    "#   # using csv.writer method from CSV package\n",
    "#   write = csv.writer(f)\n",
    "    \n",
    "#   write.writerow(fields)\n",
    "#   write.writerows(outcomes)"
   ]
  },
  {
   "cell_type": "code",
   "execution_count": null,
   "metadata": {},
   "outputs": [],
   "source": [
    "df = pd.read_csv(f'/home/luca/Documents/Extendi/ML/Extendi/AIProjects/TextClassification/PatientDoctorTextClassifier/PulsarSearchesExport/{TOPIC_CC}/output/20240524/{TOPIC_SC}_export_inference.csv')\n",
    "# df['Score'].to_csv(f'{TOPIC_SC}_score.csv', index=False)\n",
    "df.info()"
   ]
  },
  {
   "cell_type": "code",
   "execution_count": null,
   "metadata": {},
   "outputs": [],
   "source": [
    "df['Bio'].dropna(inplace=True)\n",
    "for bio in df['Bio']:\n",
    "  if type(bio) !=str:\n",
    "    continue\n",
    "  if 'patient' in bio:\n",
    "    print(bio)"
   ]
  },
  {
   "cell_type": "code",
   "execution_count": null,
   "metadata": {},
   "outputs": [],
   "source": [
    "bio_label = []\n",
    "for bio_label_score in df['Predicted Bio Type (Label / Score)']:\n",
    "  bio_label.append(bio_label_score.split('/')[0].strip())\n",
    "\n",
    "df['bio_label'] = bio_label"
   ]
  },
  {
   "cell_type": "code",
   "execution_count": null,
   "metadata": {},
   "outputs": [],
   "source": [
    "df['bio_label'].value_counts()"
   ]
  },
  {
   "cell_type": "markdown",
   "metadata": {},
   "source": [
    "#### Invoking a SageMaker endpoint for inference (Optionally)"
   ]
  },
  {
   "cell_type": "code",
   "execution_count": null,
   "metadata": {},
   "outputs": [],
   "source": [
    "import json\n",
    "from sagemaker.huggingface.model import HuggingFacePredictor\n",
    "\n",
    "runtime = boto3.client(\"sagemaker-runtime\")\n",
    "content_type = \"<request-mime-type>\"\n",
    "event = \"I'm going to the lupus summit in Washington this weekend. And the lupus foundation itself is asking for certain reforms regarding your care . One is so your health insurance respects the decision of your dr prescribing med and they can't make you try another med first\"\n",
    "payload = {\"inputs\": event}\n",
    "endpoint_name = 'patient-doctor-text-classifier-endpoint'\n",
    "\n",
    "response = runtime.invoke_endpoint(\n",
    "    EndpointName=endpoint_name,\n",
    "    ContentType=content_type,\n",
    "    Body=json.dumps(payload)\n",
    ")\n",
    "print(response)"
   ]
  }
 ],
 "metadata": {
  "kernelspec": {
   "display_name": "HF",
   "language": "python",
   "name": "python3"
  },
  "language_info": {
   "codemirror_mode": {
    "name": "ipython",
    "version": 3
   },
   "file_extension": ".py",
   "mimetype": "text/x-python",
   "name": "python",
   "nbconvert_exporter": "python",
   "pygments_lexer": "ipython3",
   "version": "3.9.13"
  }
 },
 "nbformat": 4,
 "nbformat_minor": 2
}
