{
 "cells": [
  {
   "cell_type": "markdown",
   "metadata": {},
   "source": [
    "## PATIENT - DOCTOR DATASET"
   ]
  },
  {
   "cell_type": "code",
   "execution_count": 2,
   "metadata": {},
   "outputs": [
    {
     "data": {
      "application/vnd.jupyter.widget-view+json": {
       "model_id": "90ec5c44f67646319473a5be9f0216e3",
       "version_major": 2,
       "version_minor": 0
      },
      "text/plain": [
       "Resolving data files:   0%|          | 0/271 [00:00<?, ?it/s]"
      ]
     },
     "metadata": {},
     "output_type": "display_data"
    }
   ],
   "source": [
    "import pandas as pd\n",
    "import numpy as np\n",
    "from datasets import Dataset, DatasetDict, load_dataset\n",
    "\n",
    "dataset = load_dataset(\"Postzeun/Patient-Doctor\")"
   ]
  },
  {
   "cell_type": "code",
   "execution_count": 3,
   "metadata": {},
   "outputs": [
    {
     "data": {
      "text/plain": [
       "DatasetDict({\n",
       "    train: Dataset({\n",
       "        features: ['text'],\n",
       "        num_rows: 60640\n",
       "    })\n",
       "})"
      ]
     },
     "execution_count": 3,
     "metadata": {},
     "output_type": "execute_result"
    }
   ],
   "source": [
    "dataset"
   ]
  },
  {
   "cell_type": "code",
   "execution_count": 4,
   "metadata": {},
   "outputs": [],
   "source": [
    "text_lines = dataset['train']['text']\n",
    "\n",
    "data = {'text': [], 'label': []}\n",
    "\n",
    "patient_text = []\n",
    "doctor_text = []\n",
    "\n",
    "for line in text_lines:\n",
    "  if line.startswith('P:'):\n",
    "    line = line.replace('P:', '').strip()\n",
    "    label = 0\n",
    "    patient_text.append(line)\n",
    "  elif line.startswith('D:'):\n",
    "    line = line.replace('D:', '').strip()\n",
    "    label = 1\n",
    "    doctor_text.append(line)\n",
    "  else:\n",
    "    continue\n",
    "  data['text'].append(line)\n",
    "  data['label'].append(label)"
   ]
  },
  {
   "cell_type": "code",
   "execution_count": 5,
   "metadata": {},
   "outputs": [
    {
     "name": "stdout",
     "output_type": "stream",
     "text": [
      "<class 'pandas.core.frame.DataFrame'>\n",
      "RangeIndex: 26538 entries, 0 to 26537\n",
      "Data columns (total 2 columns):\n",
      " #   Column  Non-Null Count  Dtype \n",
      "---  ------  --------------  ----- \n",
      " 0   text    26538 non-null  object\n",
      " 1   label   26538 non-null  int64 \n",
      "dtypes: int64(1), object(1)\n",
      "memory usage: 414.8+ KB\n"
     ]
    }
   ],
   "source": [
    "df1 = pd.DataFrame({'text': data['text'], 'label': data['label']})\n",
    "df1.info()"
   ]
  },
  {
   "cell_type": "code",
   "execution_count": 6,
   "metadata": {},
   "outputs": [
    {
     "data": {
      "text/plain": [
       "1    13342\n",
       "0    13196\n",
       "Name: label, dtype: int64"
      ]
     },
     "execution_count": 6,
     "metadata": {},
     "output_type": "execute_result"
    }
   ],
   "source": [
    "df1['label'].value_counts()"
   ]
  },
  {
   "cell_type": "code",
   "execution_count": 8,
   "metadata": {},
   "outputs": [
    {
     "name": "stdout",
     "output_type": "stream",
     "text": [
      "<class 'pandas.core.frame.DataFrame'>\n",
      "RangeIndex: 13345 entries, 0 to 13344\n",
      "Data columns (total 2 columns):\n",
      " #   Column  Non-Null Count  Dtype \n",
      "---  ------  --------------  ----- \n",
      " 0   text    8669 non-null   object\n",
      " 1   label   13345 non-null  int64 \n",
      "dtypes: int64(1), object(1)\n",
      "memory usage: 208.6+ KB\n"
     ]
    }
   ],
   "source": [
    "import os\n",
    "PROJECT_PATH = os.getcwd()\n",
    "df2 = pd.read_csv(os.path.join(PROJECT_PATH, 'dataset/pulsar_contents.csv'))\n",
    "df2.rename(columns={\"bio\": \"text\"}, inplace=True)\n",
    "df2['label'] = 2\n",
    "df2 = df2[['text', 'label']]\n",
    "df2.info()"
   ]
  },
  {
   "cell_type": "code",
   "execution_count": 9,
   "metadata": {},
   "outputs": [],
   "source": [
    "# With three labels P - D - N\n",
    "frames = [df1, df2]\n",
    "\n",
    "df = pd.concat(frames)"
   ]
  },
  {
   "cell_type": "code",
   "execution_count": 10,
   "metadata": {},
   "outputs": [
    {
     "name": "stdout",
     "output_type": "stream",
     "text": [
      "<class 'pandas.core.frame.DataFrame'>\n",
      "RangeIndex: 26538 entries, 0 to 26537\n",
      "Data columns (total 2 columns):\n",
      " #   Column  Non-Null Count  Dtype \n",
      "---  ------  --------------  ----- \n",
      " 0   text    26538 non-null  object\n",
      " 1   label   26538 non-null  int64 \n",
      "dtypes: int64(1), object(1)\n",
      "memory usage: 414.8+ KB\n"
     ]
    }
   ],
   "source": [
    "# pd.isna(df['text']).value_counts()\n",
    "df.dropna(inplace=True)\n",
    "df.info()"
   ]
  },
  {
   "cell_type": "markdown",
   "metadata": {},
   "source": [
    "#### Check non-latin characters"
   ]
  },
  {
   "cell_type": "code",
   "execution_count": 11,
   "metadata": {},
   "outputs": [],
   "source": [
    "LATIN_1_CHARS = (\n",
    "    ('\\xe2\\x80\\x99', \"'\"),\n",
    "    ('\\xc3\\xa9', 'e'),\n",
    "    ('\\xe2\\x80\\x90', '-'),\n",
    "    ('\\xe2\\x80\\x91', '-'),\n",
    "    ('\\xe2\\x80\\x92', '-'),\n",
    "    ('\\xe2\\x80\\x93', '-'),\n",
    "    ('\\xe2\\x80\\x94', '-'),\n",
    "    ('\\xe2\\x80\\x94', '-'),\n",
    "    ('\\xe2\\x80\\x98', \"'\"),\n",
    "    ('\\xe2\\x80\\x9b', \"'\"),\n",
    "    ('\\xe2\\x80\\x9c', '\"'),\n",
    "    ('\\xe2\\x80\\x9c', '\"'),\n",
    "    ('\\xe2\\x80\\x9d', '\"'),\n",
    "    ('\\xe2\\x80\\x9e', '\"'),\n",
    "    ('\\xe2\\x80\\x9f', '\"'),\n",
    "    ('\\xe2\\x80\\xa6', '...'),\n",
    "    ('\\xe2\\x80\\xb2', \"'\"),\n",
    "    ('\\xe2\\x80\\xb3', \"'\"),\n",
    "    ('\\xe2\\x80\\xb4', \"'\"),\n",
    "    ('\\xe2\\x80\\xb5', \"'\"),\n",
    "    ('\\xe2\\x80\\xb6', \"'\"),\n",
    "    ('\\xe2\\x80\\xb7', \"'\"),\n",
    "    ('\\xe2\\x81\\xba', \"+\"),\n",
    "    ('\\xe2\\x81\\xbb', \"-\"),\n",
    "    ('\\xe2\\x81\\xbc', \"=\"),\n",
    "    ('\\xe2\\x81\\xbd', \"(\"),\n",
    "    ('\\xe2\\x81\\xbe', \")\")\n",
    ")\n",
    "\n",
    "\n",
    "def clean_latin1(data):\n",
    "    try:\n",
    "        return data.encode('utf-8')\n",
    "    except UnicodeDecodeError:\n",
    "        data = data.decode('iso-8859-1')\n",
    "        for _hex, _char in LATIN_1_CHARS:\n",
    "            data = data.replace(_hex, _char)\n",
    "        return data.encode('utf8')"
   ]
  },
  {
   "cell_type": "code",
   "execution_count": 12,
   "metadata": {},
   "outputs": [
    {
     "name": "stdout",
     "output_type": "stream",
     "text": [
      "0\n"
     ]
    }
   ],
   "source": [
    "error = []\n",
    "for text in df['text'].values:\n",
    "  try:\n",
    "    text = clean_latin1(text)\n",
    "    # text.encode(encoding='utf-8').decode('ascii')\n",
    "  except:\n",
    "    print(f'error for {text}')\n",
    "    error.append(text)\n",
    "  # text.encode(encoding='utf-8').decode('ascii')\n",
    "\n",
    "print(len(error))"
   ]
  },
  {
   "cell_type": "code",
   "execution_count": 13,
   "metadata": {},
   "outputs": [
    {
     "data": {
      "text/plain": [
       "<AxesSubplot: >"
      ]
     },
     "execution_count": 13,
     "metadata": {},
     "output_type": "execute_result"
    },
    {
     "data": {
      "image/png": "[encoded data removed]",
      "text/plain": [
       "<Figure size 640x480 with 1 Axes>"
      ]
     },
     "metadata": {},
     "output_type": "display_data"
    }
   ],
   "source": [
    "df['label'].value_counts().plot(kind='bar')"
   ]
  },
  {
   "cell_type": "code",
   "execution_count": 14,
   "metadata": {},
   "outputs": [],
   "source": [
    "train, validate, test = \\\n",
    "              np.split(df.sample(frac=1, random_state=42).reset_index(drop=True), \n",
    "                       [int(.6*len(df)), int(.8*len(df))])"
   ]
  },
  {
   "cell_type": "code",
   "execution_count": 16,
   "metadata": {},
   "outputs": [],
   "source": [
    "# df.to_csv('patient_doctor_two_labels.csv', index=False)"
   ]
  },
  {
   "cell_type": "markdown",
   "metadata": {},
   "source": [
    "## Hugging Face login"
   ]
  },
  {
   "cell_type": "code",
   "execution_count": 24,
   "metadata": {},
   "outputs": [
    {
     "data": {
      "application/vnd.jupyter.widget-view+json": {
       "model_id": "aa0b29ef2e564ae0ab09e9032673509c",
       "version_major": 2,
       "version_minor": 0
      },
      "text/plain": [
       "VBox(children=(HTML(value='<center> <img\\nsrc=https://huggingface.co/front/assets/huggingface_logo-noborder.sv…"
      ]
     },
     "metadata": {},
     "output_type": "display_data"
    }
   ],
   "source": [
    "from huggingface_hub import notebook_login\n",
    "\n",
    "notebook_login()"
   ]
  },
  {
   "cell_type": "code",
   "execution_count": 25,
   "metadata": {},
   "outputs": [
    {
     "data": {
      "application/vnd.jupyter.widget-view+json": {
       "model_id": "2129ebcd80e045409432afc44d0876df",
       "version_major": 2,
       "version_minor": 0
      },
      "text/plain": [
       "Uploading the dataset shards:   0%|          | 0/1 [00:00<?, ?it/s]"
      ]
     },
     "metadata": {},
     "output_type": "display_data"
    },
    {
     "data": {
      "application/vnd.jupyter.widget-view+json": {
       "model_id": "60ad055c986942359e5b5fbae6b2f093",
       "version_major": 2,
       "version_minor": 0
      },
      "text/plain": [
       "Creating parquet from Arrow format:   0%|          | 0/25 [00:00<?, ?ba/s]"
      ]
     },
     "metadata": {},
     "output_type": "display_data"
    },
    {
     "data": {
      "application/vnd.jupyter.widget-view+json": {
       "model_id": "a861b751790f412299cf071d7279a582",
       "version_major": 2,
       "version_minor": 0
      },
      "text/plain": [
       "Uploading the dataset shards:   0%|          | 0/1 [00:00<?, ?it/s]"
      ]
     },
     "metadata": {},
     "output_type": "display_data"
    },
    {
     "data": {
      "application/vnd.jupyter.widget-view+json": {
       "model_id": "9f157b6c3d554022b90256f5ab9ecf52",
       "version_major": 2,
       "version_minor": 0
      },
      "text/plain": [
       "Creating parquet from Arrow format:   0%|          | 0/9 [00:00<?, ?ba/s]"
      ]
     },
     "metadata": {},
     "output_type": "display_data"
    },
    {
     "data": {
      "application/vnd.jupyter.widget-view+json": {
       "model_id": "e3f312a62bb24cb6ac0d42ab42a6beb2",
       "version_major": 2,
       "version_minor": 0
      },
      "text/plain": [
       "Uploading the dataset shards:   0%|          | 0/1 [00:00<?, ?it/s]"
      ]
     },
     "metadata": {},
     "output_type": "display_data"
    },
    {
     "data": {
      "application/vnd.jupyter.widget-view+json": {
       "model_id": "f7ec7b4a6c134365b94fe2b76414f3e6",
       "version_major": 2,
       "version_minor": 0
      },
      "text/plain": [
       "Creating parquet from Arrow format:   0%|          | 0/9 [00:00<?, ?ba/s]"
      ]
     },
     "metadata": {},
     "output_type": "display_data"
    },
    {
     "data": {
      "application/vnd.jupyter.widget-view+json": {
       "model_id": "7ca721551220410daa44126a5a33dbd7",
       "version_major": 2,
       "version_minor": 0
      },
      "text/plain": [
       "README.md:   0%|          | 0.00/522 [00:00<?, ?B/s]"
      ]
     },
     "metadata": {},
     "output_type": "display_data"
    },
    {
     "data": {
      "text/plain": [
       "CommitInfo(commit_url='https://huggingface.co/datasets/LukeGPT88/text-classification-dataset/commit/54d11259db638cd608b8eec2a1863e716e36dccc', commit_message='Upload dataset', commit_description='', oid='54d11259db638cd608b8eec2a1863e716e36dccc', pr_url=None, pr_revision=None, pr_num=None)"
      ]
     },
     "execution_count": 25,
     "metadata": {},
     "output_type": "execute_result"
    }
   ],
   "source": [
    "train_ds = Dataset.from_pandas(train)\n",
    "validation_ds = Dataset.from_pandas(validate)\n",
    "test_ds = Dataset.from_pandas(test)\n",
    "\n",
    "ddict = DatasetDict({\n",
    "    \"train\": train_ds,   # split1_ds is an instance of `datasets.Dataset`\n",
    "    \"validation\": validation_ds,\n",
    "    \"test\": test_ds,\n",
    "})\n",
    "ddict.push_to_hub(\"LukeGPT88/text-classification-dataset\")"
   ]
  }
 ],
 "metadata": {
  "kernelspec": {
   "display_name": "kaggle",
   "language": "python",
   "name": "python3"
  },
  "language_info": {
   "codemirror_mode": {
    "name": "ipython",
    "version": 3
   },
   "file_extension": ".py",
   "mimetype": "text/x-python",
   "name": "python",
   "nbconvert_exporter": "python",
   "pygments_lexer": "ipython3",
   "version": "3.1.0"
  }
 },
 "nbformat": 4,
 "nbformat_minor": 2
}
