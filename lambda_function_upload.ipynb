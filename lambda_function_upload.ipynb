{
 "cells": [
  {
   "cell_type": "markdown",
   "metadata": {},
   "source": [
    "## Create IAM role for Lambda function and attach Sagemaker priviliges to it\n"
   ]
  },
  {
   "cell_type": "code",
   "execution_count": 8,
   "metadata": {},
   "outputs": [],
   "source": [
    "import boto3\n",
    "import json\n",
    "\n",
    "iam_client = boto3.client('iam')\n",
    "\n",
    "role_policy = {\n",
    "  \"Version\": \"2012-10-17\",\n",
    "  \"Statement\": [\n",
    "    {\n",
    "      \"Sid\": \"\",\n",
    "      \"Effect\": \"Allow\",\n",
    "      \"Principal\": {\n",
    "        \"Service\": \"lambda.amazonaws.com\"\n",
    "      },\n",
    "      \"Action\": \"sts:AssumeRole\"\n",
    "    }\n",
    "  ]\n",
    "}"
   ]
  },
  {
   "cell_type": "code",
   "execution_count": 9,
   "metadata": {},
   "outputs": [],
   "source": [
    "iam_rolename = \"LambdaHFServerlessRole\"\n",
    "\n",
    "response = iam_client.create_role(\n",
    "  RoleName=iam_rolename,\n",
    "  AssumeRolePolicyDocument=json.dumps(role_policy),\n",
    ")"
   ]
  },
  {
   "cell_type": "code",
   "execution_count": 10,
   "metadata": {},
   "outputs": [],
   "source": [
    "response = iam_client.attach_role_policy(RoleName=iam_rolename, PolicyArn='arn:aws:iam::aws:policy/AmazonSageMakerFullAccess')"
   ]
  },
  {
   "cell_type": "markdown",
   "metadata": {},
   "source": [
    "## Create Lambda Function"
   ]
  },
  {
   "cell_type": "code",
   "execution_count": 5,
   "metadata": {},
   "outputs": [],
   "source": [
    "endpoint_name = 'patient-doctor-text-classifier-endpoint'\n",
    "\n",
    "lambda_code = f\"\"\"\n",
    "import boto3\n",
    "import json\n",
    "\n",
    "ENDPOINT_NAME = \"{endpoint_name}\"\n",
    "runtime= boto3.client('runtime.sagemaker')\n",
    "\n",
    "def lambda_handler(event, context):\n",
    "  print(\"Received event: \" + json.dumps(event, indent=4))\n",
    "  \n",
    "  payload = {\"inputs\": event}\n",
    "  response = runtime.invoke_endpoint(EndpointName=ENDPOINT_NAME,\n",
    "                                    ContentType='application/json',\n",
    "                                    Body=json.dumps(payload))\n",
    "  \n",
    "  result = json.loads(response['Body'].read().decode())\n",
    "  print(f\"Predicted result: {result}\")\n",
    "\n",
    "  return result\n",
    "\"\"\""
   ]
  },
  {
   "cell_type": "code",
   "execution_count": 7,
   "metadata": {},
   "outputs": [],
   "source": [
    "from zipfile import ZipFile\n",
    "filename = \"lambda_function\"\n",
    "\n",
    "with open(f\"{filename}.py\", \"w\") as f:\n",
    "  f.write(lambda_code)\n",
    "\n",
    "with ZipFile(f'{filename}.zip', 'w') as myzip:\n",
    "  myzip.write(f'{filename}.py')"
   ]
  },
  {
   "cell_type": "code",
   "execution_count": null,
   "metadata": {},
   "outputs": [],
   "source": [
    "import boto3\n",
    "lambda_function_name = \"SagemakerInvokeEndpointFunction\"\n",
    "\n",
    "lambda_client = boto3.client('lambda')\n",
    "\n",
    "with open('lambda_function.zip', 'rb') as f:\n",
    "    zipped_code = f.read()\n",
    "  \n",
    "iam_client = boto3.client('iam')\n",
    "iam_rolename = \"SagemakerInvokeEndpointRole\"\n",
    "role = iam_client.get_role(RoleName=iam_rolename)\n",
    "\n",
    "response = lambda_client.create_function(\n",
    "    FunctionName=lambda_function_name,\n",
    "    Runtime='python3.9',\n",
    "    Role=role['Role']['Arn'],\n",
    "    Handler=f'lambda_function.lambda_handler',\n",
    "    Code=dict(ZipFile=zipped_code),\n",
    "    Timeout=300,\n",
    ")"
   ]
  }
 ],
 "metadata": {
  "kernelspec": {
   "display_name": "HF",
   "language": "python",
   "name": "python3"
  },
  "language_info": {
   "codemirror_mode": {
    "name": "ipython",
    "version": 3
   },
   "file_extension": ".py",
   "mimetype": "text/x-python",
   "name": "python",
   "nbconvert_exporter": "python",
   "pygments_lexer": "ipython3",
   "version": "3.10.13"
  }
 },
 "nbformat": 4,
 "nbformat_minor": 2
}
